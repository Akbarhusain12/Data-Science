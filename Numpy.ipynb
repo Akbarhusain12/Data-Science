{
 "cells": [
  {
   "cell_type": "markdown",
   "id": "c14ca635-aaaa-4d31-b325-dca40cfee878",
   "metadata": {},
   "source": [
    "## What is NumPy?\n",
    "- **NumPy** stands for **Numerical Python**.\n",
    "- It is a powerful Python library for numerical computing.\n",
    "- Provides support for large, multi-dimensional arrays and matrices, along with a collection of high-level mathematical functions.\n",
    "\n",
    "---\n",
    "\n",
    "## 1. NumPy Arrays\n",
    "\n",
    "### Creating Arrays\n",
    "- **1D Array (Vector)**:\n",
    "    ```python\n",
    "    import numpy as np\n",
    "    arr = np.array([1, 2, 3])\n",
    "    ```\n",
    "- **2D Array (Matrix)**:\n",
    "    ```python\n",
    "    arr = np.array([[1, 2, 3], [4, 5, 6]])\n",
    "    ```\n",
    "- **3D Array (Tensor)**:\n",
    "    ```python\n",
    "    arr = np.array([[[1, 2], [3, 4]], [[5, 6], [7, 8]]])\n",
    "    ```\n",
    "\n",
    "### Properties of NumPy Arrays:\n",
    "- **Shape**: `arr.shape` gives the dimensions of the array.\n",
    "- **Size**: `arr.size` returns the total number of elements.\n",
    "- **Data Type**: `arr.dtype` gives the data type of the array elements.\n",
    "\n",
    "---\n",
    "\n",
    "## 2. Array Creation Functions\n",
    "\n",
    "- **np.zeros(shape)**: Create an array of zeros.\n",
    "    ```python\n",
    "    np.zeros((2, 3))  # Creates a 2x3 array of zeros\n",
    "    ```\n",
    "- **np.ones(shape)**: Create an array of ones.\n",
    "    ```python\n",
    "    np.ones((3, 3))  # Creates a 3x3 array of ones\n",
    "    ```\n",
    "- **np.arange(start, stop, step)**: Create an array with evenly spaced values.\n",
    "    ```python\n",
    "    np.arange(0, 10, 2)  # Output: array([0, 2, 4, 6, 8])\n",
    "    ```\n",
    "- **np.linspace(start, stop, num)**: Create an array of evenly spaced values over a specified range.\n",
    "    ```python\n",
    "    np.linspace(0, 1, 5)  # Output: array([0., 0.25, 0.5, 0.75, 1.])\n",
    "    ```\n",
    "- **np.random.random(size)**: Create an array with random values between 0 and 1.\n",
    "    ```python\n",
    "    np.random.random((2, 2))  # Random 2x2 array\n",
    "    ```\n",
    "\n",
    "---\n",
    "\n",
    "## 3. Array Indexing and Slicing\n",
    "\n",
    "### Basic Indexing:\n",
    "- Access single element:\n",
    "    ```python\n",
    "    arr[1]  # Access the second element\n",
    "    ```\n",
    "- Access elements in a 2D array:\n",
    "    ```python\n",
    "    arr[0, 1]  # Access element in the first row, second column\n",
    "    ```\n",
    "\n",
    "### Slicing:\n",
    "- Access a subset of the array:\n",
    "    ```python\n",
    "    arr[1:3]  # Slice from index 1 to 2 (excluding 3)\n",
    "    ```\n",
    "- In a 2D array:\n",
    "    ```python\n",
    "    arr[:, 1]  # Access all rows of the second column\n",
    "    ```\n",
    "\n",
    "---\n",
    "\n",
    "## 4. Reshaping and Resizing Arrays\n",
    "\n",
    "- **Reshape**: Change the shape of an array without changing its data.\n",
    "    ```python\n",
    "    arr = np.arange(6).reshape((2, 3))  # Reshapes a 1D array to 2D\n",
    "    ```\n",
    "- **Flatten**: Convert a multi-dimensional array to a 1D array.\n",
    "    ```python\n",
    "    arr.flatten()  # Flattens the array\n",
    "    ```\n",
    "\n",
    "---\n",
    "\n",
    "## 5. Mathematical Operations on Arrays\n",
    "\n",
    "- **Element-wise Operations**: Arrays support element-wise addition, subtraction, multiplication, and division.\n",
    "    ```python\n",
    "    arr1 + arr2  # Add two arrays\n",
    "    arr1 * arr2  # Multiply two arrays element-wise\n",
    "    ```\n",
    "- **Broadcasting**: NumPy automatically broadcasts smaller arrays to match the shape of larger arrays.\n",
    "    ```python\n",
    "    arr + 5  # Add 5 to every element\n",
    "    ```\n",
    "- **Aggregations**:\n",
    "    - `np.sum(arr)`: Sum of all elements.\n",
    "    - `np.min(arr)`: Minimum element.\n",
    "    - `np.max(arr)`: Maximum element.\n",
    "    - `np.mean(arr)`: Mean of all elements.\n",
    "\n",
    "---\n",
    "\n",
    "## 6. Linear Algebra in NumPy\n",
    "\n",
    "- **Matrix Multiplication**:\n",
    "    ```python\n",
    "    np.dot(arr1, arr2)  # Matrix product of two arrays\n",
    "    ```\n",
    "- **Transpose of a Matrix**:\n",
    "    ```python\n",
    "    arr.T  # Transpose the matrix\n",
    "    ```\n",
    "- **Inverse of a Matrix**:\n",
    "    ```python\n",
    "    np.linalg.inv(arr)  # Compute the inverse of a matrix\n",
    "    ```\n",
    "\n",
    "---\n",
    "\n",
    "## 7. Important Functions in NumPy\n",
    "\n",
    "- **np.save(filename, arr)**: Save an array to a binary file.\n",
    "    ```python\n",
    "    np.save('my_array.npy', arr)\n",
    "    ```\n",
    "- **np.load(filename)**: Load an array from a binary file.\n",
    "    ```python\n",
    "    arr = np.load('my_array.npy')\n",
    "    ```\n",
    "- **np.where(condition)**: Return indices where the condition is True.\n",
    "    ```python\n",
    "    np.where(arr > 0)  # Indices where elements are greater than 0\n",
    "    ```\n",
    "---\n",
    "\n",
    "## 8.  What is `ndim`?\n",
    "- The `ndim` attribute in NumPy tells you the **number of dimensions** (also known as axes) of an array.\n",
    "- It is a useful tool to understand the structure of the array.\n",
    "\n",
    "### Example of `ndim`:\n",
    "\n",
    "```python\n",
    "import numpy as np\n",
    "\n",
    "# Creating a 1D array\n",
    "arr1 = np.array([1, 2, 3])\n",
    "print(arr1.ndim)  # Output:\n",
    "1 (one-dimensional array)\n",
    "\n",
    "# Creating a 2D array\n",
    "arr2 = np.array([[1, 2, 3], [4, 5, 6]])\n",
    "print(arr2.ndim)  # Output: 2 (two-dimensional array)\n",
    "\n",
    "# Creating a 3D array\n",
    "arr3 = np.array([[[1, 2], [3, 4]], [[5, 6], [7, 8]]])\n",
    "print(arr3.ndim)  # Output: 3 (three-dimensional array)\n",
    "```\n",
    "\n",
    "---"
   ]
  },
  {
   "cell_type": "code",
   "execution_count": 1,
   "id": "0460341a-76ac-4135-a7c6-74337e71abc1",
   "metadata": {},
   "outputs": [],
   "source": [
    "import numpy as np"
   ]
  },
  {
   "cell_type": "markdown",
   "id": "176befb1-0e08-4a30-acfc-13ae4890feb3",
   "metadata": {},
   "source": [
    "### 1D array"
   ]
  },
  {
   "cell_type": "code",
   "execution_count": 2,
   "id": "1156261e-7c83-4064-b083-34929cbb485e",
   "metadata": {},
   "outputs": [
    {
     "name": "stdout",
     "output_type": "stream",
     "text": [
      "[1 2 3 4 5]\n",
      "[1.1 2.2 3.3 4.4 5.5]\n",
      "[1.  2.  3.  4.4 5.5]\n",
      "['1' '2' '3' '4.4' 'hi']\n"
     ]
    }
   ],
   "source": [
    "arr = np.array([1, 2, 3, 4, 5])\n",
    "arr1 = np.array([1.1,2.2,3.3,4.4,5.5])\n",
    "arr2 = np.array([1,2,3,4.4,5.5])\n",
    "arr3 = np.array([1,2,3,4.4,\"hi\"])\n",
    "print(arr)\n",
    "print(arr1)\n",
    "print(arr2)\n",
    "print(arr3)"
   ]
  },
  {
   "cell_type": "code",
   "execution_count": 3,
   "id": "306a62e1-60d4-4743-8e16-d5f53721938b",
   "metadata": {},
   "outputs": [
    {
     "data": {
      "text/plain": [
       "array([1. , 2. , 3. , 4. , 5.5])"
      ]
     },
     "execution_count": 3,
     "metadata": {},
     "output_type": "execute_result"
    }
   ],
   "source": [
    "a1 = np.array([1, 2, 3, 4, 5.5],float)\n",
    "a1"
   ]
  },
  {
   "cell_type": "code",
   "execution_count": 4,
   "id": "52548249-7d02-4837-a81b-061189ccb926",
   "metadata": {},
   "outputs": [
    {
     "data": {
      "text/plain": [
       "array(['1', '2', '3', 'hii', 'hello'], dtype='<U11')"
      ]
     },
     "execution_count": 4,
     "metadata": {},
     "output_type": "execute_result"
    }
   ],
   "source": [
    "l1 = [1,2,3,\"hii\",\"hello\"]\n",
    "a2 = np.array(l1)\n",
    "a2"
   ]
  },
  {
   "cell_type": "markdown",
   "id": "ec4ec5f2-4631-4d1f-8f3a-167fa5222a3f",
   "metadata": {},
   "source": [
    "### Array Operation"
   ]
  },
  {
   "cell_type": "code",
   "execution_count": 5,
   "id": "bfabe5ab-e6b9-45eb-b706-3c353da478ec",
   "metadata": {},
   "outputs": [
    {
     "data": {
      "text/plain": [
       "1"
      ]
     },
     "execution_count": 5,
     "metadata": {},
     "output_type": "execute_result"
    }
   ],
   "source": [
    "a2.ndim"
   ]
  },
  {
   "cell_type": "code",
   "execution_count": 6,
   "id": "1a43d709-5a05-4d79-8265-863d287ec3f4",
   "metadata": {},
   "outputs": [
    {
     "data": {
      "text/plain": [
       "5"
      ]
     },
     "execution_count": 6,
     "metadata": {},
     "output_type": "execute_result"
    }
   ],
   "source": [
    "a2.size"
   ]
  },
  {
   "cell_type": "code",
   "execution_count": 7,
   "id": "3a511150-cdd7-4cd5-8b41-a265b6a35f43",
   "metadata": {},
   "outputs": [
    {
     "data": {
      "text/plain": [
       "(5,)"
      ]
     },
     "execution_count": 7,
     "metadata": {},
     "output_type": "execute_result"
    }
   ],
   "source": [
    "a2.shape"
   ]
  },
  {
   "cell_type": "code",
   "execution_count": 8,
   "id": "e590d4c1-3528-4475-ab05-a89a8b6e0886",
   "metadata": {},
   "outputs": [
    {
     "data": {
      "text/plain": [
       "array([[[1, 2],\n",
       "        [3, 4]],\n",
       "\n",
       "       [[5, 6],\n",
       "        [7, 8]]])"
      ]
     },
     "execution_count": 8,
     "metadata": {},
     "output_type": "execute_result"
    }
   ],
   "source": [
    "arr = np.array([[[1, 2], [3, 4]], [[5, 6], [7, 8]]]) #3d array\n",
    "arr"
   ]
  },
  {
   "cell_type": "code",
   "execution_count": 9,
   "id": "77d650cc-4c93-4d68-8d27-e9190629f3ba",
   "metadata": {},
   "outputs": [
    {
     "data": {
      "text/plain": [
       "array([[0, 0, 0],\n",
       "       [0, 0, 0]])"
      ]
     },
     "execution_count": 9,
     "metadata": {},
     "output_type": "execute_result"
    }
   ],
   "source": [
    "np.zeros((2, 3),dtype=int)"
   ]
  },
  {
   "cell_type": "code",
   "execution_count": 10,
   "id": "d1589945-421e-4a0d-b28d-affb69fa2f82",
   "metadata": {},
   "outputs": [
    {
     "data": {
      "text/plain": [
       "array([-3, -3,  3])"
      ]
     },
     "execution_count": 10,
     "metadata": {},
     "output_type": "execute_result"
    }
   ],
   "source": [
    "a1 = np.array([2,3,4])\n",
    "a2 = np.array([5,6,1])\n",
    "\n",
    "np.subtract(a1,a2)"
   ]
  },
  {
   "cell_type": "code",
   "execution_count": 11,
   "id": "b7ef6975-91bd-4248-aae5-28885375ac5f",
   "metadata": {},
   "outputs": [
    {
     "data": {
      "text/plain": [
       "array([10, 18,  4])"
      ]
     },
     "execution_count": 11,
     "metadata": {},
     "output_type": "execute_result"
    }
   ],
   "source": [
    "np.multiply(a1,a2)"
   ]
  },
  {
   "cell_type": "code",
   "execution_count": 12,
   "id": "c6f025de-42da-4240-bad2-1b0199a0cc1a",
   "metadata": {},
   "outputs": [
    {
     "data": {
      "text/plain": [
       "array([ 1,  4,  7, 10])"
      ]
     },
     "execution_count": 12,
     "metadata": {},
     "output_type": "execute_result"
    }
   ],
   "source": [
    "a1 = np.arange(1,11,3)\n",
    "a1"
   ]
  },
  {
   "cell_type": "code",
   "execution_count": 13,
   "id": "7084da2f-ae90-4fab-82ba-696b0c73f84e",
   "metadata": {},
   "outputs": [
    {
     "name": "stdout",
     "output_type": "stream",
     "text": [
      "[10  9  8  7  6  5  4  3  2  1]\n"
     ]
    }
   ],
   "source": [
    "a4 = np.arange(1,11)\n",
    "print(a4[::-1])"
   ]
  },
  {
   "cell_type": "code",
   "execution_count": 14,
   "id": "b76061f0-0fe6-48f2-9409-b03e9348ced9",
   "metadata": {},
   "outputs": [
    {
     "data": {
      "text/plain": [
       "array([ 1,  2, 34,  4,  5,  5,  6, 76])"
      ]
     },
     "execution_count": 14,
     "metadata": {},
     "output_type": "execute_result"
    }
   ],
   "source": [
    "l1  = [1,2,34,4,5,5,6,76]\n",
    "conver = np.array(l1)\n",
    "conver"
   ]
  },
  {
   "cell_type": "code",
   "execution_count": 15,
   "id": "21c276e9-7b68-4ba1-8d8f-d6e81a5354d6",
   "metadata": {},
   "outputs": [
    {
     "data": {
      "text/plain": [
       "array([[0.53417061, 0.78355261, 0.31674192],\n",
       "       [0.75181558, 0.82046361, 0.87048642],\n",
       "       [0.02650536, 0.59426959, 0.95748932]])"
      ]
     },
     "execution_count": 15,
     "metadata": {},
     "output_type": "execute_result"
    }
   ],
   "source": [
    "a = np.random.random((3,3))\n",
    "a"
   ]
  },
  {
   "cell_type": "code",
   "execution_count": 16,
   "id": "cdcf760d-6874-4cf6-98c7-b6f6cf6f5074",
   "metadata": {},
   "outputs": [
    {
     "data": {
      "text/plain": [
       "1"
      ]
     },
     "execution_count": 16,
     "metadata": {},
     "output_type": "execute_result"
    }
   ],
   "source": [
    "x = np.random.randint(100)\n",
    "x"
   ]
  },
  {
   "cell_type": "code",
   "execution_count": 17,
   "id": "9011191d-a171-43f7-b2e6-e9d96ba5acae",
   "metadata": {},
   "outputs": [
    {
     "data": {
      "text/plain": [
       "array([[77,  4, 42],\n",
       "       [22, 52, 71],\n",
       "       [97, 80,  8],\n",
       "       [31,  2, 75],\n",
       "       [53, 31, 52]])"
      ]
     },
     "execution_count": 17,
     "metadata": {},
     "output_type": "execute_result"
    }
   ],
   "source": [
    "x = np.random.randint(100, size=(5,3))\n",
    "x"
   ]
  },
  {
   "cell_type": "code",
   "execution_count": 18,
   "id": "0ea51228-7de2-4108-ad9a-60bf4a7293aa",
   "metadata": {},
   "outputs": [
    {
     "data": {
      "text/plain": [
       "array([[[ 1,  1,  3],\n",
       "        [ 9,  8,  6]],\n",
       "\n",
       "       [[ 1, 10, 10],\n",
       "        [ 6,  5,  5]]])"
      ]
     },
     "execution_count": 18,
     "metadata": {},
     "output_type": "execute_result"
    }
   ],
   "source": [
    "y = np.random.randint(1,11,(2,2,3))\n",
    "y"
   ]
  },
  {
   "cell_type": "markdown",
   "id": "d0d29858-6b08-4a6c-bf15-bb1380a30311",
   "metadata": {},
   "source": [
    "---"
   ]
  },
  {
   "cell_type": "code",
   "execution_count": 19,
   "id": "97e9ed0d-f59d-4775-b409-0afbc53b03ba",
   "metadata": {},
   "outputs": [
    {
     "name": "stdout",
     "output_type": "stream",
     "text": [
      "Original array: [ -5 -10 -15 -20]\n",
      "Absolute values: [ 5 10 15 20]\n"
     ]
    }
   ],
   "source": [
    "#1\n",
    "import numpy as np\n",
    "\n",
    "arr = np.array([-5, -10, -15, -20])\n",
    "\n",
    "\n",
    "abs_arr = np.abs(arr)\n",
    "\n",
    "print(\"Original array:\", arr)\n",
    "print(\"Absolute values:\", abs_arr)\n"
   ]
  },
  {
   "cell_type": "code",
   "execution_count": 20,
   "id": "04144c8c-ffa3-41ef-adb9-1d40a5a9bde4",
   "metadata": {},
   "outputs": [
    {
     "name": "stdout",
     "output_type": "stream",
     "text": [
      "Original array: [ 1.7  2.5  3.2  4.9 -1.4 -2.6]\n",
      "Rounded array: [ 2.  2.  3.  5. -1. -3.]\n"
     ]
    }
   ],
   "source": [
    "#2\n",
    "float_arr = np.array([1.7, 2.5, 3.2, 4.9, -1.4, -2.6])\n",
    "\n",
    "rounded_arr = np.rint(float_arr)\n",
    "\n",
    "\n",
    "print(\"Original array:\", float_arr)\n",
    "print(\"Rounded array:\", rounded_arr)\n"
   ]
  },
  {
   "cell_type": "code",
   "execution_count": 21,
   "id": "fb380d95-1643-4536-a945-c576b9ccc98b",
   "metadata": {},
   "outputs": [
    {
     "name": "stdout",
     "output_type": "stream",
     "text": [
      "[[ 2  3  4]\n",
      " [ 5  6  7]\n",
      " [ 8  9 10]]\n"
     ]
    }
   ],
   "source": [
    "#3\n",
    "matrix = np.arange(2, 11).reshape(3, 3)\n",
    "print(matrix)\n"
   ]
  },
  {
   "cell_type": "code",
   "execution_count": 22,
   "id": "9d0bf4fb-dcdd-4bb9-9a23-9503a2ba2c13",
   "metadata": {},
   "outputs": [
    {
     "name": "stdout",
     "output_type": "stream",
     "text": [
      "Series from list:\n",
      "0    10\n",
      "1    20\n",
      "2    30\n",
      "3    40\n",
      "dtype: int64\n",
      "\n",
      "Series from NumPy array:\n",
      "0     5\n",
      "1    10\n",
      "2    15\n",
      "3    25\n",
      "dtype: int32\n",
      "\n",
      "Series from dictionary:\n",
      "a    1\n",
      "b    2\n",
      "c    3\n",
      "d    4\n",
      "dtype: int64\n"
     ]
    }
   ],
   "source": [
    "#4\n",
    "import pandas as pd\n",
    "# List\n",
    "data_list = [10, 20, 30, 40]\n",
    "\n",
    "data_array = np.array([5, 10, 15, 25])\n",
    "\n",
    "data_dict = {'a': 1, 'b': 2, 'c': 3, 'd': 4}\n",
    "\n",
    "series_from_list = pd.Series(data_list)\n",
    "series_from_array = pd.Series(data_array)\n",
    "series_from_dict = pd.Series(data_dict)\n",
    "\n",
    "# Print the series\n",
    "print(\"Series from list:\")\n",
    "print(series_from_list)\n",
    "\n",
    "print(\"\\nSeries from NumPy array:\")\n",
    "print(series_from_array)\n",
    "\n",
    "print(\"\\nSeries from dictionary:\")\n",
    "print(series_from_dict)"
   ]
  },
  {
   "cell_type": "code",
   "execution_count": 23,
   "id": "47937a0a-3060-4f7a-90ff-97e106428738",
   "metadata": {},
   "outputs": [
    {
     "name": "stdout",
     "output_type": "stream",
     "text": [
      "   0  1   2\n",
      "0  1  2   3\n",
      "1  4  5   6\n",
      "2  7  8  10\n"
     ]
    }
   ],
   "source": [
    "#5\n",
    "arr = np.array([1, 2, 3, 4, 5, 6, 7, 8, 10])\n",
    "\n",
    "desired_shape = (3, 3)\n",
    "reshaped_array = arr.reshape(desired_shape)\n",
    "\n",
    "df = pd.DataFrame(reshaped_array)\n",
    "\n",
    "print(df)\n"
   ]
  },
  {
   "cell_type": "code",
   "execution_count": null,
   "id": "3879a813-c658-458b-b0cc-f45243455ab4",
   "metadata": {},
   "outputs": [],
   "source": []
  }
 ],
 "metadata": {
  "kernelspec": {
   "display_name": "Python 3 (ipykernel)",
   "language": "python",
   "name": "python3"
  },
  "language_info": {
   "codemirror_mode": {
    "name": "ipython",
    "version": 3
   },
   "file_extension": ".py",
   "mimetype": "text/x-python",
   "name": "python",
   "nbconvert_exporter": "python",
   "pygments_lexer": "ipython3",
   "version": "3.12.2"
  }
 },
 "nbformat": 4,
 "nbformat_minor": 5
}
